{
  "nbformat": 4,
  "nbformat_minor": 0,
  "metadata": {
    "colab": {
      "provenance": [],
      "authorship_tag": "ABX9TyMt+3zBiltAOI0I8KNOurtN",
      "include_colab_link": true
    },
    "kernelspec": {
      "name": "python3",
      "display_name": "Python 3"
    },
    "language_info": {
      "name": "python"
    }
  },
  "cells": [
    {
      "cell_type": "markdown",
      "metadata": {
        "id": "view-in-github",
        "colab_type": "text"
      },
      "source": [
        "<a href=\"https://colab.research.google.com/github/shocoding/AIFFEL_quest_new/blob/main/Python_quest/MainQuest/mainquest2.ipynb\" target=\"_parent\"><img src=\"https://colab.research.google.com/assets/colab-badge.svg\" alt=\"Open In Colab\"/></a>"
      ]
    },
    {
      "cell_type": "code",
      "execution_count": 31,
      "metadata": {
        "colab": {
          "base_uri": "https://localhost:8080/",
          "height": 489
        },
        "id": "6s8rHCxrtSDX",
        "outputId": "3bdcfda2-a60c-46c8-f216-e9ae01f8264a"
      },
      "outputs": [
        {
          "output_type": "stream",
          "name": "stdout",
          "text": [
            "\n",
            "학생을 추가하려면 1을 누르고, 끝내려면 0을 누르세요 : 1\n",
            "이름을 입력하세요 : 경수\n",
            "학번을 입력하세요 : 3\n",
            "{'경수': 3}\n",
            "\n",
            "학생을 추가하려면 1을 누르고, 끝내려면 0을 누르세요 : 1\n",
            "이름을 입력하세요 : 민수\n",
            "학번을 입력하세요 : 4\n",
            "{'경수': 3, '민수': 4}\n",
            "\n",
            "학생을 추가하려면 1을 누르고, 끝내려면 0을 누르세요 : 0\n",
            "\n",
            "학생 입력이 끝났습니다. 최종 학생은 아래와 같습니다\n",
            "{'경수': 3, '민수': 4}\n"
          ]
        },
        {
          "output_type": "error",
          "ename": "TypeError",
          "evalue": "ignored",
          "traceback": [
            "\u001b[0;31m---------------------------------------------------------------------------\u001b[0m",
            "\u001b[0;31mTypeError\u001b[0m                                 Traceback (most recent call last)",
            "\u001b[0;32m<ipython-input-31-41b5b509ad93>\u001b[0m in \u001b[0;36m<cell line: 29>\u001b[0;34m()\u001b[0m\n\u001b[1;32m     27\u001b[0m \u001b[0;34m\u001b[0m\u001b[0m\n\u001b[1;32m     28\u001b[0m \u001b[0ma\u001b[0m \u001b[0;34m=\u001b[0m \u001b[0mAiffel\u001b[0m\u001b[0;34m(\u001b[0m\u001b[0;34m)\u001b[0m\u001b[0;34m\u001b[0m\u001b[0;34m\u001b[0m\u001b[0m\n\u001b[0;32m---> 29\u001b[0;31m \u001b[0ma\u001b[0m\u001b[0;34m.\u001b[0m\u001b[0mget_id_num\u001b[0m\u001b[0;34m(\u001b[0m\u001b[0;34m)\u001b[0m\u001b[0;34m\u001b[0m\u001b[0;34m\u001b[0m\u001b[0m\n\u001b[0m\u001b[1;32m     30\u001b[0m \u001b[0ma\u001b[0m\u001b[0;34m.\u001b[0m\u001b[0mplus_score\u001b[0m\u001b[0;34m\u001b[0m\u001b[0;34m\u001b[0m\u001b[0m\n",
            "\u001b[0;31mTypeError\u001b[0m: Aiffel.get_id_num() takes 0 positional arguments but 1 was given"
          ]
        }
      ],
      "source": [
        "class Aiffel:\n",
        "    def __init__(self):\n",
        "      t = 1\n",
        "      student = {} # 학생을 딕셔너리로 입력받음\n",
        "\n",
        "      while t != 0:\n",
        "        print()\n",
        "        t = int(input('학생을 추가하려면 1을 누르고, 끝내려면 0을 누르세요 : '))\n",
        "        if t > 0:\n",
        "          self.name = input('이름을 입력하세요 : ')\n",
        "          self.name_num = int(input('학번을 입력하세요 : '))\n",
        "          student[self.name] = self.name_num\n",
        "          print(student)\n",
        "      else:\n",
        "        if t == 0:\n",
        "          print()\n",
        "          print('학생 입력이 끝났습니다. 최종 학생은 아래와 같습니다')\n",
        "          print(student)\n",
        "\n",
        "    def get_id_num():\n",
        "      print(len(student.keys()))\n",
        "\n",
        "    def plus_score(self):\n",
        "      score = int(input('추가 점수를 입력하세요 : '))\n",
        "      self.score += score\n",
        "\n",
        "\n",
        "a = Aiffel()\n",
        "a.get_id_num()\n",
        "a.plus_score"
      ]
    }
  ]
}