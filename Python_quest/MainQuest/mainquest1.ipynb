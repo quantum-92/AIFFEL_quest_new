{
  "nbformat": 4,
  "nbformat_minor": 0,
  "metadata": {
    "colab": {
      "provenance": [],
      "authorship_tag": "ABX9TyNSKKefAEqrRcKI4fkVl74C",
      "include_colab_link": true
    },
    "kernelspec": {
      "name": "python3",
      "display_name": "Python 3"
    },
    "language_info": {
      "name": "python"
    }
  },
  "cells": [
    {
      "cell_type": "markdown",
      "metadata": {
        "id": "view-in-github",
        "colab_type": "text"
      },
      "source": [
        "<a href=\"https://colab.research.google.com/github/shocoding/AIFFEL_quest_new/blob/main/Python_quest/MainQuest/mainquest1.ipynb\" target=\"_parent\"><img src=\"https://colab.research.google.com/assets/colab-badge.svg\" alt=\"Open In Colab\"/></a>"
      ]
    },
    {
      "cell_type": "code",
      "execution_count": null,
      "metadata": {
        "colab": {
          "base_uri": "https://localhost:8080/",
          "height": 246
        },
        "id": "cdVqFQPdeka4",
        "outputId": "a815c79a-3624-4c83-97d0-bd1da3d1b3aa"
      },
      "outputs": [
        {
          "output_type": "error",
          "ename": "TypeError",
          "evalue": "ignored",
          "traceback": [
            "\u001b[0;31m---------------------------------------------------------------------------\u001b[0m",
            "\u001b[0;31mTypeError\u001b[0m                                 Traceback (most recent call last)",
            "\u001b[0;32m<ipython-input-3-8b07dc251f41>\u001b[0m in \u001b[0;36m<cell line: 68>\u001b[0;34m()\u001b[0m\n\u001b[1;32m     66\u001b[0m \u001b[0;34m\u001b[0m\u001b[0m\n\u001b[1;32m     67\u001b[0m \u001b[0;31m# 테스트를 위해 3개 이상의 계좌를 생성하고 리스트에 저장\u001b[0m\u001b[0;34m\u001b[0m\u001b[0;34m\u001b[0m\u001b[0m\n\u001b[0;32m---> 68\u001b[0;31m \u001b[0maccount1\u001b[0m \u001b[0;34m=\u001b[0m \u001b[0mAccount\u001b[0m\u001b[0;34m(\u001b[0m\u001b[0;34m\"파이썬\"\u001b[0m\u001b[0;34m,\u001b[0m \u001b[0;36m10000\u001b[0m\u001b[0;34m)\u001b[0m\u001b[0;34m\u001b[0m\u001b[0;34m\u001b[0m\u001b[0m\n\u001b[0m\u001b[1;32m     69\u001b[0m \u001b[0maccount2\u001b[0m \u001b[0;34m=\u001b[0m \u001b[0mAccount\u001b[0m\u001b[0;34m(\u001b[0m\u001b[0;34m\"루비\"\u001b[0m\u001b[0;34m,\u001b[0m \u001b[0;36m50000\u001b[0m\u001b[0;34m)\u001b[0m\u001b[0;34m\u001b[0m\u001b[0;34m\u001b[0m\u001b[0m\n\u001b[1;32m     70\u001b[0m \u001b[0maccount3\u001b[0m \u001b[0;34m=\u001b[0m \u001b[0mAccount\u001b[0m\u001b[0;34m(\u001b[0m\u001b[0;34m\"자바\"\u001b[0m\u001b[0;34m,\u001b[0m \u001b[0;36m200000\u001b[0m\u001b[0;34m)\u001b[0m\u001b[0;34m\u001b[0m\u001b[0;34m\u001b[0m\u001b[0m\n",
            "\u001b[0;31mTypeError\u001b[0m: Account.__init__() takes 1 positional argument but 3 were given"
          ]
        }
      ],
      "source": [
        "import random\n",
        "\n",
        "\n",
        "class Account:\n",
        "    # class variable\n",
        "    account_count = 0\n",
        "\n",
        "    def __init__(self, name, balance):\n",
        "        self.deposit_count = 0\n",
        "        self.deposit_log = []\n",
        "        self.withdraw_log = []\n",
        "\n",
        "        self.name = name\n",
        "        self.balance = balance\n",
        "        self.bank = \"SC은행\"\n",
        "\n",
        "        # 3-2-6\n",
        "        num1 = random.randint(0, 999)\n",
        "        num2 = random.randint(0, 99)\n",
        "        num3 = random.randint(0, 999999)\n",
        "\n",
        "        num1 = str(num1).zfill(3)  # 1 -> '1' -> '001'\n",
        "        num2 = str(num2).zfill(2)  # 1 -> '1' -> '01'\n",
        "        num3 = str(num3).zfill(6)  # 1 -> '1' -> '0000001'\n",
        "        self.account_number = num1 + '-' + num2 + '-' + num3  # 001-01-000001\n",
        "        Account.account_count += 1\n",
        "\n",
        "    @classmethod\n",
        "    def get_account_num(cls):\n",
        "        print(cls.account_count)  # Account.account_count\n",
        "\n",
        "    def deposit(self, amount):\n",
        "        if amount >= 1:\n",
        "            self.deposit_log.append(amount)\n",
        "            self.balance += amount\n",
        "\n",
        "            self.deposit_count += 1\n",
        "            if self.deposit_count % 5 == 0:         # 5, 10, 15\n",
        "                # 이자 지금\n",
        "                self.balance = (self.balance * 1.01)\n",
        "\n",
        "\n",
        "    def withdraw(self, amount):\n",
        "        if self.balance > amount:\n",
        "            self.withdraw_log.append(amount)\n",
        "            self.balance -= amount\n",
        "\n",
        "    def display_info(self):\n",
        "        print(\"은행이름: \", self.bank)\n",
        "        print(\"예금주: \", self.name)\n",
        "        print(\"계좌번호: \", self.account_number)\n",
        "        print(\"잔고: \", self.balance)\n",
        "\n",
        "    def withdraw_history(self):\n",
        "        for amount in self.withdraw_log:\n",
        "            print(amount)\n",
        "\n",
        "    def deposit_history(self):\n",
        "        for amount in self.deposit_log:\n",
        "            print(amount)\n",
        "\n",
        "\n"
      ]
    }
  ]
}