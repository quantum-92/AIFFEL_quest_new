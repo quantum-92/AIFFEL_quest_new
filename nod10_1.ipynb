{
 "cells": [
  {
   "cell_type": "code",
   "execution_count": 1,
   "id": "3566b9ec",
   "metadata": {},
   "outputs": [],
   "source": [
    "# 라이브러리 \n",
    "import pandas as pd"
   ]
  },
  {
   "cell_type": "code",
   "execution_count": 2,
   "id": "f77e0dfd",
   "metadata": {},
   "outputs": [],
   "source": [
    "# 데이터 불러오기\n",
    "train = pd.read_csv('/aiffel/data/train.csv')\n",
    "test = pd.read_csv('/aiffel/data/test.csv')"
   ]
  },
  {
   "cell_type": "code",
   "execution_count": 3,
   "id": "2a6d0555",
   "metadata": {},
   "outputs": [
    {
     "data": {
      "text/plain": [
       "((39116, 16), (9779, 15))"
      ]
     },
     "execution_count": 3,
     "metadata": {},
     "output_type": "execute_result"
    }
   ],
   "source": [
    "# 데이터 크기\n",
    "train.shape, test.shape"
   ]
  },
  {
   "cell_type": "code",
   "execution_count": 4,
   "id": "036c3266",
   "metadata": {},
   "outputs": [
    {
     "data": {
      "text/html": [
       "<div>\n",
       "<style scoped>\n",
       "    .dataframe tbody tr th:only-of-type {\n",
       "        vertical-align: middle;\n",
       "    }\n",
       "\n",
       "    .dataframe tbody tr th {\n",
       "        vertical-align: top;\n",
       "    }\n",
       "\n",
       "    .dataframe thead th {\n",
       "        text-align: right;\n",
       "    }\n",
       "</style>\n",
       "<table border=\"1\" class=\"dataframe\">\n",
       "  <thead>\n",
       "    <tr style=\"text-align: right;\">\n",
       "      <th></th>\n",
       "      <th>id</th>\n",
       "      <th>name</th>\n",
       "      <th>host_id</th>\n",
       "      <th>host_name</th>\n",
       "      <th>neighbourhood_group</th>\n",
       "      <th>neighbourhood</th>\n",
       "      <th>latitude</th>\n",
       "      <th>longitude</th>\n",
       "      <th>room_type</th>\n",
       "      <th>price</th>\n",
       "      <th>minimum_nights</th>\n",
       "      <th>number_of_reviews</th>\n",
       "      <th>last_review</th>\n",
       "      <th>reviews_per_month</th>\n",
       "      <th>calculated_host_listings_count</th>\n",
       "      <th>availability_365</th>\n",
       "    </tr>\n",
       "  </thead>\n",
       "  <tbody>\n",
       "    <tr>\n",
       "      <th>0</th>\n",
       "      <td>14963583</td>\n",
       "      <td>Room in South Harlem near Central Park</td>\n",
       "      <td>94219511</td>\n",
       "      <td>Gilles</td>\n",
       "      <td>Manhattan</td>\n",
       "      <td>Harlem</td>\n",
       "      <td>40.80167</td>\n",
       "      <td>-73.95781</td>\n",
       "      <td>Private room</td>\n",
       "      <td>70</td>\n",
       "      <td>3</td>\n",
       "      <td>3</td>\n",
       "      <td>2019-01-01</td>\n",
       "      <td>0.09</td>\n",
       "      <td>2</td>\n",
       "      <td>0</td>\n",
       "    </tr>\n",
       "    <tr>\n",
       "      <th>1</th>\n",
       "      <td>9458704</td>\n",
       "      <td>Large 1BR Apartment, near Times Sq (2nd Floor)</td>\n",
       "      <td>49015331</td>\n",
       "      <td>Iradj</td>\n",
       "      <td>Manhattan</td>\n",
       "      <td>Hell's Kitchen</td>\n",
       "      <td>40.76037</td>\n",
       "      <td>-73.99016</td>\n",
       "      <td>Entire home/apt</td>\n",
       "      <td>240</td>\n",
       "      <td>2</td>\n",
       "      <td>64</td>\n",
       "      <td>2019-06-30</td>\n",
       "      <td>1.68</td>\n",
       "      <td>2</td>\n",
       "      <td>262</td>\n",
       "    </tr>\n",
       "  </tbody>\n",
       "</table>\n",
       "</div>"
      ],
      "text/plain": [
       "         id                                            name   host_id  \\\n",
       "0  14963583          Room in South Harlem near Central Park  94219511   \n",
       "1   9458704  Large 1BR Apartment, near Times Sq (2nd Floor)  49015331   \n",
       "\n",
       "  host_name neighbourhood_group   neighbourhood  latitude  longitude  \\\n",
       "0    Gilles           Manhattan          Harlem  40.80167  -73.95781   \n",
       "1     Iradj           Manhattan  Hell's Kitchen  40.76037  -73.99016   \n",
       "\n",
       "         room_type  price  minimum_nights  number_of_reviews last_review  \\\n",
       "0     Private room     70               3                  3  2019-01-01   \n",
       "1  Entire home/apt    240               2                 64  2019-06-30   \n",
       "\n",
       "   reviews_per_month  calculated_host_listings_count  availability_365  \n",
       "0               0.09                               2                 0  \n",
       "1               1.68                               2               262  "
      ]
     },
     "metadata": {},
     "output_type": "display_data"
    },
    {
     "data": {
      "text/html": [
       "<div>\n",
       "<style scoped>\n",
       "    .dataframe tbody tr th:only-of-type {\n",
       "        vertical-align: middle;\n",
       "    }\n",
       "\n",
       "    .dataframe tbody tr th {\n",
       "        vertical-align: top;\n",
       "    }\n",
       "\n",
       "    .dataframe thead th {\n",
       "        text-align: right;\n",
       "    }\n",
       "</style>\n",
       "<table border=\"1\" class=\"dataframe\">\n",
       "  <thead>\n",
       "    <tr style=\"text-align: right;\">\n",
       "      <th></th>\n",
       "      <th>id</th>\n",
       "      <th>name</th>\n",
       "      <th>host_id</th>\n",
       "      <th>host_name</th>\n",
       "      <th>neighbourhood_group</th>\n",
       "      <th>neighbourhood</th>\n",
       "      <th>latitude</th>\n",
       "      <th>longitude</th>\n",
       "      <th>room_type</th>\n",
       "      <th>minimum_nights</th>\n",
       "      <th>number_of_reviews</th>\n",
       "      <th>last_review</th>\n",
       "      <th>reviews_per_month</th>\n",
       "      <th>calculated_host_listings_count</th>\n",
       "      <th>availability_365</th>\n",
       "    </tr>\n",
       "  </thead>\n",
       "  <tbody>\n",
       "    <tr>\n",
       "      <th>0</th>\n",
       "      <td>30913224</td>\n",
       "      <td>Cozy and Sunny Room Williamsburg, Luxury Building</td>\n",
       "      <td>33771081</td>\n",
       "      <td>Rémy</td>\n",
       "      <td>Brooklyn</td>\n",
       "      <td>Williamsburg</td>\n",
       "      <td>40.70959</td>\n",
       "      <td>-73.94652</td>\n",
       "      <td>Private room</td>\n",
       "      <td>3</td>\n",
       "      <td>2</td>\n",
       "      <td>2019-05-08</td>\n",
       "      <td>0.31</td>\n",
       "      <td>1</td>\n",
       "      <td>0</td>\n",
       "    </tr>\n",
       "    <tr>\n",
       "      <th>1</th>\n",
       "      <td>971247</td>\n",
       "      <td>Sunny Artist Live/Work Apartment</td>\n",
       "      <td>5308961</td>\n",
       "      <td>Larry</td>\n",
       "      <td>Manhattan</td>\n",
       "      <td>Upper West Side</td>\n",
       "      <td>40.79368</td>\n",
       "      <td>-73.96487</td>\n",
       "      <td>Entire home/apt</td>\n",
       "      <td>3</td>\n",
       "      <td>159</td>\n",
       "      <td>2019-07-03</td>\n",
       "      <td>2.09</td>\n",
       "      <td>1</td>\n",
       "      <td>244</td>\n",
       "    </tr>\n",
       "  </tbody>\n",
       "</table>\n",
       "</div>"
      ],
      "text/plain": [
       "         id                                               name   host_id  \\\n",
       "0  30913224  Cozy and Sunny Room Williamsburg, Luxury Building  33771081   \n",
       "1    971247                   Sunny Artist Live/Work Apartment   5308961   \n",
       "\n",
       "  host_name neighbourhood_group    neighbourhood  latitude  longitude  \\\n",
       "0      Rémy            Brooklyn     Williamsburg  40.70959  -73.94652   \n",
       "1     Larry           Manhattan  Upper West Side  40.79368  -73.96487   \n",
       "\n",
       "         room_type  minimum_nights  number_of_reviews last_review  \\\n",
       "0     Private room               3                  2  2019-05-08   \n",
       "1  Entire home/apt               3                159  2019-07-03   \n",
       "\n",
       "   reviews_per_month  calculated_host_listings_count  availability_365  \n",
       "0               0.31                               1                 0  \n",
       "1               2.09                               1               244  "
      ]
     },
     "metadata": {},
     "output_type": "display_data"
    }
   ],
   "source": [
    "# 데이터 샘플\n",
    "display(train.head(2))\n",
    "display(test.head(2))"
   ]
  },
  {
   "cell_type": "code",
   "execution_count": 5,
   "id": "98ffdc5a",
   "metadata": {},
   "outputs": [
    {
     "name": "stdout",
     "output_type": "stream",
     "text": [
      "<class 'pandas.core.frame.DataFrame'>\n",
      "RangeIndex: 39116 entries, 0 to 39115\n",
      "Data columns (total 16 columns):\n",
      " #   Column                          Non-Null Count  Dtype  \n",
      "---  ------                          --------------  -----  \n",
      " 0   id                              39116 non-null  int64  \n",
      " 1   name                            39104 non-null  object \n",
      " 2   host_id                         39116 non-null  int64  \n",
      " 3   host_name                       39099 non-null  object \n",
      " 4   neighbourhood_group             39116 non-null  object \n",
      " 5   neighbourhood                   39116 non-null  object \n",
      " 6   latitude                        39116 non-null  float64\n",
      " 7   longitude                       39116 non-null  float64\n",
      " 8   room_type                       39116 non-null  object \n",
      " 9   price                           39116 non-null  int64  \n",
      " 10  minimum_nights                  39116 non-null  int64  \n",
      " 11  number_of_reviews               39116 non-null  int64  \n",
      " 12  last_review                     31122 non-null  object \n",
      " 13  reviews_per_month               31122 non-null  float64\n",
      " 14  calculated_host_listings_count  39116 non-null  int64  \n",
      " 15  availability_365                39116 non-null  int64  \n",
      "dtypes: float64(3), int64(7), object(6)\n",
      "memory usage: 4.8+ MB\n"
     ]
    }
   ],
   "source": [
    "# 데이터 타입\n",
    "train.info()"
   ]
  },
  {
   "cell_type": "code",
   "execution_count": 6,
   "id": "82f3406f",
   "metadata": {},
   "outputs": [
    {
     "data": {
      "text/plain": [
       "id                                   0\n",
       "name                                12\n",
       "host_id                              0\n",
       "host_name                           17\n",
       "neighbourhood_group                  0\n",
       "neighbourhood                        0\n",
       "latitude                             0\n",
       "longitude                            0\n",
       "room_type                            0\n",
       "price                                0\n",
       "minimum_nights                       0\n",
       "number_of_reviews                    0\n",
       "last_review                       7994\n",
       "reviews_per_month                 7994\n",
       "calculated_host_listings_count       0\n",
       "availability_365                     0\n",
       "dtype: int64"
      ]
     },
     "execution_count": 6,
     "metadata": {},
     "output_type": "execute_result"
    }
   ],
   "source": [
    "# 결측치(train)\n",
    "train.isnull().sum()"
   ]
  },
  {
   "cell_type": "code",
   "execution_count": 7,
   "id": "d4e9e9d0",
   "metadata": {},
   "outputs": [
    {
     "data": {
      "text/plain": [
       "id                                   0\n",
       "name                                 4\n",
       "host_id                              0\n",
       "host_name                            4\n",
       "neighbourhood_group                  0\n",
       "neighbourhood                        0\n",
       "latitude                             0\n",
       "longitude                            0\n",
       "room_type                            0\n",
       "minimum_nights                       0\n",
       "number_of_reviews                    0\n",
       "last_review                       2058\n",
       "reviews_per_month                 2058\n",
       "calculated_host_listings_count       0\n",
       "availability_365                     0\n",
       "dtype: int64"
      ]
     },
     "execution_count": 7,
     "metadata": {},
     "output_type": "execute_result"
    }
   ],
   "source": [
    "# 결측치(test)\n",
    "test.isnull().sum()"
   ]
  },
  {
   "cell_type": "code",
   "execution_count": 8,
   "id": "8e0c8399",
   "metadata": {},
   "outputs": [
    {
     "data": {
      "text/plain": [
       "<AxesSubplot:>"
      ]
     },
     "execution_count": 8,
     "metadata": {},
     "output_type": "execute_result"
    },
    {
     "data": {
      "image/png": "[encoded data removed]",
      "text/plain": [
       "<Figure size 432x288 with 1 Axes>"
      ]
     },
     "metadata": {
      "needs_background": "light"
     },
     "output_type": "display_data"
    }
   ],
   "source": [
    "# target(hist)\n",
    "train['price'].hist(bins=100)"
   ]
  },
  {
   "cell_type": "code",
   "execution_count": 9,
   "id": "6d36b132",
   "metadata": {},
   "outputs": [
    {
     "data": {
      "text/plain": [
       "count    39116.000000\n",
       "mean       152.751150\n",
       "std        241.752501\n",
       "min          0.000000\n",
       "25%         69.000000\n",
       "50%        105.000000\n",
       "75%        175.000000\n",
       "max      10000.000000\n",
       "Name: price, dtype: float64"
      ]
     },
     "execution_count": 9,
     "metadata": {},
     "output_type": "execute_result"
    }
   ],
   "source": [
    "# target(describe)\n",
    "train['price'].describe()"
   ]
  },
  {
   "cell_type": "code",
   "execution_count": 10,
   "id": "04eed3dd",
   "metadata": {},
   "outputs": [
    {
     "data": {
      "text/plain": [
       "219517861    256\n",
       "107434423    181\n",
       "30283594      99\n",
       "137358866     82\n",
       "12243051      80\n",
       "            ... \n",
       "73369106       1\n",
       "26620387       1\n",
       "176660539      1\n",
       "26004891       1\n",
       "2609535        1\n",
       "Name: host_id, Length: 30845, dtype: int64"
      ]
     },
     "execution_count": 10,
     "metadata": {},
     "output_type": "execute_result"
    }
   ],
   "source": [
    "# 피처(host_id)\n",
    "train['host_id'].value_counts()"
   ]
  },
  {
   "cell_type": "code",
   "execution_count": 11,
   "id": "bfbb7f33",
   "metadata": {},
   "outputs": [],
   "source": [
    "# 결측치 컬럼 삭제(last_review)\n",
    "train = train.drop(labels='last_review', axis=1)\n",
    "test = test.drop(labels='last_review', axis=1)"
   ]
  },
  {
   "cell_type": "code",
   "execution_count": 12,
   "id": "7b86e6a2",
   "metadata": {},
   "outputs": [],
   "source": [
    "# 결측치 채우기\n",
    "train = train.fillna(0)\n",
    "test = test.fillna(0)"
   ]
  },
  {
   "cell_type": "code",
   "execution_count": 13,
   "id": "55c34c61",
   "metadata": {},
   "outputs": [
    {
     "data": {
      "text/html": [
       "<div>\n",
       "<style scoped>\n",
       "    .dataframe tbody tr th:only-of-type {\n",
       "        vertical-align: middle;\n",
       "    }\n",
       "\n",
       "    .dataframe tbody tr th {\n",
       "        vertical-align: top;\n",
       "    }\n",
       "\n",
       "    .dataframe thead th {\n",
       "        text-align: right;\n",
       "    }\n",
       "</style>\n",
       "<table border=\"1\" class=\"dataframe\">\n",
       "  <thead>\n",
       "    <tr style=\"text-align: right;\">\n",
       "      <th></th>\n",
       "      <th>id</th>\n",
       "      <th>name</th>\n",
       "      <th>host_id</th>\n",
       "      <th>host_name</th>\n",
       "      <th>neighbourhood_group</th>\n",
       "      <th>neighbourhood</th>\n",
       "      <th>latitude</th>\n",
       "      <th>longitude</th>\n",
       "      <th>room_type</th>\n",
       "      <th>minimum_nights</th>\n",
       "      <th>number_of_reviews</th>\n",
       "      <th>reviews_per_month</th>\n",
       "      <th>calculated_host_listings_count</th>\n",
       "      <th>availability_365</th>\n",
       "    </tr>\n",
       "  </thead>\n",
       "  <tbody>\n",
       "    <tr>\n",
       "      <th>0</th>\n",
       "      <td>False</td>\n",
       "      <td>False</td>\n",
       "      <td>False</td>\n",
       "      <td>False</td>\n",
       "      <td>False</td>\n",
       "      <td>False</td>\n",
       "      <td>False</td>\n",
       "      <td>False</td>\n",
       "      <td>False</td>\n",
       "      <td>False</td>\n",
       "      <td>False</td>\n",
       "      <td>False</td>\n",
       "      <td>False</td>\n",
       "      <td>False</td>\n",
       "    </tr>\n",
       "    <tr>\n",
       "      <th>1</th>\n",
       "      <td>False</td>\n",
       "      <td>False</td>\n",
       "      <td>False</td>\n",
       "      <td>False</td>\n",
       "      <td>False</td>\n",
       "      <td>False</td>\n",
       "      <td>False</td>\n",
       "      <td>False</td>\n",
       "      <td>False</td>\n",
       "      <td>False</td>\n",
       "      <td>False</td>\n",
       "      <td>False</td>\n",
       "      <td>False</td>\n",
       "      <td>False</td>\n",
       "    </tr>\n",
       "    <tr>\n",
       "      <th>2</th>\n",
       "      <td>False</td>\n",
       "      <td>False</td>\n",
       "      <td>False</td>\n",
       "      <td>False</td>\n",
       "      <td>False</td>\n",
       "      <td>False</td>\n",
       "      <td>False</td>\n",
       "      <td>False</td>\n",
       "      <td>False</td>\n",
       "      <td>False</td>\n",
       "      <td>False</td>\n",
       "      <td>False</td>\n",
       "      <td>False</td>\n",
       "      <td>False</td>\n",
       "    </tr>\n",
       "    <tr>\n",
       "      <th>3</th>\n",
       "      <td>False</td>\n",
       "      <td>False</td>\n",
       "      <td>False</td>\n",
       "      <td>False</td>\n",
       "      <td>False</td>\n",
       "      <td>False</td>\n",
       "      <td>False</td>\n",
       "      <td>False</td>\n",
       "      <td>False</td>\n",
       "      <td>False</td>\n",
       "      <td>False</td>\n",
       "      <td>False</td>\n",
       "      <td>False</td>\n",
       "      <td>False</td>\n",
       "    </tr>\n",
       "    <tr>\n",
       "      <th>4</th>\n",
       "      <td>False</td>\n",
       "      <td>False</td>\n",
       "      <td>False</td>\n",
       "      <td>False</td>\n",
       "      <td>False</td>\n",
       "      <td>False</td>\n",
       "      <td>False</td>\n",
       "      <td>False</td>\n",
       "      <td>False</td>\n",
       "      <td>False</td>\n",
       "      <td>False</td>\n",
       "      <td>False</td>\n",
       "      <td>False</td>\n",
       "      <td>False</td>\n",
       "    </tr>\n",
       "    <tr>\n",
       "      <th>...</th>\n",
       "      <td>...</td>\n",
       "      <td>...</td>\n",
       "      <td>...</td>\n",
       "      <td>...</td>\n",
       "      <td>...</td>\n",
       "      <td>...</td>\n",
       "      <td>...</td>\n",
       "      <td>...</td>\n",
       "      <td>...</td>\n",
       "      <td>...</td>\n",
       "      <td>...</td>\n",
       "      <td>...</td>\n",
       "      <td>...</td>\n",
       "      <td>...</td>\n",
       "    </tr>\n",
       "    <tr>\n",
       "      <th>9774</th>\n",
       "      <td>False</td>\n",
       "      <td>False</td>\n",
       "      <td>False</td>\n",
       "      <td>False</td>\n",
       "      <td>False</td>\n",
       "      <td>False</td>\n",
       "      <td>False</td>\n",
       "      <td>False</td>\n",
       "      <td>False</td>\n",
       "      <td>False</td>\n",
       "      <td>False</td>\n",
       "      <td>False</td>\n",
       "      <td>False</td>\n",
       "      <td>False</td>\n",
       "    </tr>\n",
       "    <tr>\n",
       "      <th>9775</th>\n",
       "      <td>False</td>\n",
       "      <td>False</td>\n",
       "      <td>False</td>\n",
       "      <td>False</td>\n",
       "      <td>False</td>\n",
       "      <td>False</td>\n",
       "      <td>False</td>\n",
       "      <td>False</td>\n",
       "      <td>False</td>\n",
       "      <td>False</td>\n",
       "      <td>False</td>\n",
       "      <td>False</td>\n",
       "      <td>False</td>\n",
       "      <td>False</td>\n",
       "    </tr>\n",
       "    <tr>\n",
       "      <th>9776</th>\n",
       "      <td>False</td>\n",
       "      <td>False</td>\n",
       "      <td>False</td>\n",
       "      <td>False</td>\n",
       "      <td>False</td>\n",
       "      <td>False</td>\n",
       "      <td>False</td>\n",
       "      <td>False</td>\n",
       "      <td>False</td>\n",
       "      <td>False</td>\n",
       "      <td>False</td>\n",
       "      <td>False</td>\n",
       "      <td>False</td>\n",
       "      <td>False</td>\n",
       "    </tr>\n",
       "    <tr>\n",
       "      <th>9777</th>\n",
       "      <td>False</td>\n",
       "      <td>False</td>\n",
       "      <td>False</td>\n",
       "      <td>False</td>\n",
       "      <td>False</td>\n",
       "      <td>False</td>\n",
       "      <td>False</td>\n",
       "      <td>False</td>\n",
       "      <td>False</td>\n",
       "      <td>False</td>\n",
       "      <td>False</td>\n",
       "      <td>False</td>\n",
       "      <td>False</td>\n",
       "      <td>False</td>\n",
       "    </tr>\n",
       "    <tr>\n",
       "      <th>9778</th>\n",
       "      <td>False</td>\n",
       "      <td>False</td>\n",
       "      <td>False</td>\n",
       "      <td>False</td>\n",
       "      <td>False</td>\n",
       "      <td>False</td>\n",
       "      <td>False</td>\n",
       "      <td>False</td>\n",
       "      <td>False</td>\n",
       "      <td>False</td>\n",
       "      <td>False</td>\n",
       "      <td>False</td>\n",
       "      <td>False</td>\n",
       "      <td>False</td>\n",
       "    </tr>\n",
       "  </tbody>\n",
       "</table>\n",
       "<p>9779 rows × 14 columns</p>\n",
       "</div>"
      ],
      "text/plain": [
       "         id   name  host_id  host_name  neighbourhood_group  neighbourhood  \\\n",
       "0     False  False    False      False                False          False   \n",
       "1     False  False    False      False                False          False   \n",
       "2     False  False    False      False                False          False   \n",
       "3     False  False    False      False                False          False   \n",
       "4     False  False    False      False                False          False   \n",
       "...     ...    ...      ...        ...                  ...            ...   \n",
       "9774  False  False    False      False                False          False   \n",
       "9775  False  False    False      False                False          False   \n",
       "9776  False  False    False      False                False          False   \n",
       "9777  False  False    False      False                False          False   \n",
       "9778  False  False    False      False                False          False   \n",
       "\n",
       "      latitude  longitude  room_type  minimum_nights  number_of_reviews  \\\n",
       "0        False      False      False           False              False   \n",
       "1        False      False      False           False              False   \n",
       "2        False      False      False           False              False   \n",
       "3        False      False      False           False              False   \n",
       "4        False      False      False           False              False   \n",
       "...        ...        ...        ...             ...                ...   \n",
       "9774     False      False      False           False              False   \n",
       "9775     False      False      False           False              False   \n",
       "9776     False      False      False           False              False   \n",
       "9777     False      False      False           False              False   \n",
       "9778     False      False      False           False              False   \n",
       "\n",
       "      reviews_per_month  calculated_host_listings_count  availability_365  \n",
       "0                 False                           False             False  \n",
       "1                 False                           False             False  \n",
       "2                 False                           False             False  \n",
       "3                 False                           False             False  \n",
       "4                 False                           False             False  \n",
       "...                 ...                             ...               ...  \n",
       "9774              False                           False             False  \n",
       "9775              False                           False             False  \n",
       "9776              False                           False             False  \n",
       "9777              False                           False             False  \n",
       "9778              False                           False             False  \n",
       "\n",
       "[9779 rows x 14 columns]"
      ]
     },
     "execution_count": 13,
     "metadata": {},
     "output_type": "execute_result"
    }
   ],
   "source": [
    "# 결측치 확인\n",
    "train.isnull()\n",
    "test.isnull()"
   ]
  },
  {
   "cell_type": "code",
   "execution_count": 14,
   "id": "70f99f5d",
   "metadata": {},
   "outputs": [],
   "source": [
    "target = train['price']\n",
    "train = train.drop('price', axis =1)"
   ]
  },
  {
   "cell_type": "code",
   "execution_count": 15,
   "id": "ce796c5a",
   "metadata": {},
   "outputs": [],
   "source": [
    "cols = [\n",
    "    'host_id',\n",
    "    'latitude',\n",
    "    'longitude',\n",
    "    'minimum_nights',\n",
    "    'number_of_reviews',\n",
    "    'reviews_per_month',\n",
    "    'calculated_host_listings_count',\n",
    "    'availability_365'\n",
    "]\n",
    "\n",
    "train = train[cols]\n",
    "test = test[cols]"
   ]
  },
  {
   "cell_type": "code",
   "execution_count": 16,
   "id": "6842e75d",
   "metadata": {},
   "outputs": [
    {
     "data": {
      "text/plain": [
       "((31292, 8), (7824, 8), (31292,), (7824,))"
      ]
     },
     "execution_count": 16,
     "metadata": {},
     "output_type": "execute_result"
    }
   ],
   "source": [
    "from sklearn.model_selection import train_test_split\n",
    "\n",
    "X_train, X_val, y_train, y_val = train_test_split(train, target, test_size=0.2, random_state=20)\n",
    "X_train.shape, X_val.shape, y_train.shape, y_val.shape"
   ]
  },
  {
   "cell_type": "code",
   "execution_count": 17,
   "id": "2815c61e",
   "metadata": {},
   "outputs": [
    {
     "data": {
      "text/plain": [
       "70820.42659375044"
      ]
     },
     "execution_count": 17,
     "metadata": {},
     "output_type": "execute_result"
    }
   ],
   "source": [
    "from sklearn.linear_model import LinearRegression\n",
    "from sklearn.metrics import mean_squared_error\n",
    "\n",
    "model = LinearRegression()\n",
    "model.fit(X_train, y_train)\n",
    "pred = model.predict(X_val)\n",
    "mean_squared_error(y_val, pred)"
   ]
  },
  {
   "cell_type": "code",
   "execution_count": 18,
   "id": "4edc9512",
   "metadata": {},
   "outputs": [
    {
     "name": "stderr",
     "output_type": "stream",
     "text": [
      "/opt/conda/lib/python3.9/site-packages/sklearn/linear_model/_ridge.py:156: LinAlgWarning: Ill-conditioned matrix (rcond=3.10967e-19): result may not be accurate.\n",
      "  return linalg.solve(A, Xy, sym_pos=True, overwrite_a=True).T\n"
     ]
    },
    {
     "data": {
      "text/plain": [
       "70821.60225350011"
      ]
     },
     "execution_count": 18,
     "metadata": {},
     "output_type": "execute_result"
    }
   ],
   "source": [
    "from sklearn.linear_model import Ridge\n",
    "\n",
    "model = Ridge()\n",
    "model.fit(X_train, y_train)\n",
    "pred = model.predict(X_val)\n",
    "mean_squared_error(y_val, pred)"
   ]
  },
  {
   "cell_type": "code",
   "execution_count": 19,
   "id": "8d6cc692",
   "metadata": {},
   "outputs": [
    {
     "data": {
      "text/plain": [
       "71429.85944847093"
      ]
     },
     "execution_count": 19,
     "metadata": {},
     "output_type": "execute_result"
    }
   ],
   "source": [
    "from sklearn.linear_model import Lasso\n",
    "\n",
    "model = Lasso()\n",
    "model.fit(X_train, y_train)\n",
    "pred = model.predict(X_val)\n",
    "mean_squared_error(y_val, pred)"
   ]
  },
  {
   "cell_type": "code",
   "execution_count": 20,
   "id": "b7369d88",
   "metadata": {},
   "outputs": [
    {
     "data": {
      "text/plain": [
       "72206.0184281587"
      ]
     },
     "execution_count": 20,
     "metadata": {},
     "output_type": "execute_result"
    }
   ],
   "source": [
    "from sklearn.linear_model import ElasticNet\n",
    "\n",
    "model = ElasticNet()\n",
    "model.fit(X_train, y_train)\n",
    "pred = model.predict(X_val)\n",
    "mean_squared_error(y_val, pred)"
   ]
  },
  {
   "cell_type": "code",
   "execution_count": 21,
   "id": "bc32b0c1",
   "metadata": {},
   "outputs": [
    {
     "data": {
      "text/plain": [
       "69476.39120210889"
      ]
     },
     "execution_count": 21,
     "metadata": {},
     "output_type": "execute_result"
    }
   ],
   "source": [
    "from sklearn.ensemble import RandomForestRegressor\n",
    "\n",
    "model = RandomForestRegressor(random_state=2022)\n",
    "model.fit(X_train, y_train)\n",
    "pred = model.predict(X_val)\n",
    "mean_squared_error(y_val, pred)"
   ]
  },
  {
   "cell_type": "code",
   "execution_count": 22,
   "id": "fc7017b8",
   "metadata": {},
   "outputs": [
    {
     "name": "stderr",
     "output_type": "stream",
     "text": [
      "/opt/conda/lib/python3.9/site-packages/pkg_resources/__init__.py:122: PkgResourcesDeprecationWarning: 0.996-ko-0.9.2 is an invalid version and will not be supported in a future release\n",
      "  warnings.warn(\n"
     ]
    },
    {
     "data": {
      "text/plain": [
       "71767.38486710798"
      ]
     },
     "execution_count": 22,
     "metadata": {},
     "output_type": "execute_result"
    }
   ],
   "source": [
    "from xgboost import XGBRegressor\n",
    "model = XGBRegressor(random_state=2022)\n",
    "\n",
    "model.fit(X_train, y_train)\n",
    "pred = model.predict(X_val)\n",
    "mean_squared_error(y_val, pred)"
   ]
  },
  {
   "cell_type": "code",
   "execution_count": 23,
   "id": "5a87a67c",
   "metadata": {},
   "outputs": [
    {
     "data": {
      "text/plain": [
       "49908.32911146415"
      ]
     },
     "execution_count": 23,
     "metadata": {},
     "output_type": "execute_result"
    }
   ],
   "source": [
    "y_test = pd.read_csv('/aiffel/data/y_test.csv')\n",
    "\n",
    "pred = model.predict(test)\n",
    "mean_squared_error(y_test, pred)"
   ]
  },
  {
   "cell_type": "code",
   "execution_count": null,
   "id": "00977bad",
   "metadata": {},
   "outputs": [],
   "source": []
  }
 ],
 "metadata": {
  "kernelspec": {
   "display_name": "Python 3 (ipykernel)",
   "language": "python",
   "name": "python3"
  },
  "language_info": {
   "codemirror_mode": {
    "name": "ipython",
    "version": 3
   },
   "file_extension": ".py",
   "mimetype": "text/x-python",
   "name": "python",
   "nbconvert_exporter": "python",
   "pygments_lexer": "ipython3",
   "version": "3.9.7"
  }
 },
 "nbformat": 4,
 "nbformat_minor": 5
}
